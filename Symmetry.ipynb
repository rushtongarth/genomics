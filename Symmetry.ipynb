{
 "cells": [
  {
   "cell_type": "code",
   "execution_count": 1,
   "metadata": {},
   "outputs": [],
   "source": [
    "import numpy as np\n",
    "import collections as co"
   ]
  },
  {
   "cell_type": "code",
   "execution_count": null,
   "metadata": {},
   "outputs": [],
   "source": [
    "class Sym(object):\n",
    "\n",
    "  def __init__(self,N,labels = []):\n",
    "    self.num = N\n",
    "    self.idx = np.arange(1,N+1)\n",
    "    self.lbl = labels or np.arange(1,N+1)\n",
    "  def __len__(self):\n",
    "    return self.num\n",
    "  #def __iter__(self):\n",
    "  #  \n",
    "  def __repr__(self):\n",
    "    ostr = \"( \"+' '.join(map(str,self.lbl))+\" )\"\n",
    "    return ostr\n",
    "  def __pow__(self,other):\n",
    "    p = other % self.num\n",
    "    cyc = set()\n",
    "    for t1,t2 in zip(junk,np.roll(junk,-p)):\n",
    "      if (t2,t1) in cyc or (t1,t2) in cyc:\n",
    "        continue\n",
    "      cyc |= {(t1,t2)}\n",
    "\n",
    "    "
   ]
  },
  {
   "cell_type": "code",
   "execution_count": 2,
   "metadata": {},
   "outputs": [],
   "source": [
    "labels = np.arange(1,11)\n"
   ]
  },
  {
   "cell_type": "code",
   "execution_count": 97,
   "metadata": {},
   "outputs": [
    {
     "name": "stdout",
     "output_type": "stream",
     "text": [
      "[1 2 3 4]\n",
      "1 4\n",
      "2 1\n",
      "3 2\n",
      "4 3\n",
      "{(3, 2), (2, 1), (1, 4), (4, 3)}\n"
     ]
    }
   ],
   "source": [
    "N = 4\n",
    "p = 3 % 4\n",
    "junk = np.arange(1,N+1)\n",
    "L = len(junk)\n",
    "print(junk)\n",
    "\n",
    "cyc = set()\n",
    "for t1,t2 in zip(junk,np.roll(junk,-p)):\n",
    "  if (t2,t1) in cyc or (t1,t2) in cyc:\n",
    "    continue\n",
    "  print(t1,t2)\n",
    "  cyc |= {(t1,t2)}\n",
    "print(cyc)\n",
    "# for e,x in enumerate(junk,p):\n",
    "#   c1,c2 = (x,junk[e-L]),(junk[e-L],x)\n",
    "#   #if c2 in cyc or c1 in cyc:\n",
    "#   #  continue\n",
    "#   cyc |= {c1}\n",
    "# print(sorted(cyc))\n"
   ]
  },
  {
   "cell_type": "code",
   "execution_count": null,
   "metadata": {},
   "outputs": [],
   "source": [
    "mp = dict(zip(junk,np.roll(junk,-3)))\n",
    "K = list(mp.keys())\n",
    "L = []\n",
    "el = K[0]\n",
    "t = tuple()\n",
    "while K:\n",
    "#   v = mp[el]\n",
    "  if el not in t:\n",
    "    t+=(el,)\n",
    "    el = mp[el]\n",
    "    #K.pop(K.index(el))\n",
    "  if v not in t:\n",
    "    t+=(,)\n",
    "    el = K.pop(0)\n",
    "  "
   ]
  },
  {
   "cell_type": "code",
   "execution_count": 116,
   "metadata": {},
   "outputs": [],
   "source": [
    "mp = dict(zip(junk,np.roll(junk,-3)))\n",
    "ol = set()\n",
    "for a,b in mp.items():\n",
    "  if (a,b) in ol or (b,a) in ol:\n",
    "    continue\n",
    "  ol |= {(a,b)}"
   ]
  },
  {
   "cell_type": "code",
   "execution_count": 119,
   "metadata": {},
   "outputs": [
    {
     "data": {
      "text/plain": [
       "{3: 2, 2: 1, 1: 4, 4: 3}"
      ]
     },
     "execution_count": 119,
     "metadata": {},
     "output_type": "execute_result"
    }
   ],
   "source": []
  },
  {
   "cell_type": "code",
   "execution_count": 52,
   "metadata": {},
   "outputs": [
    {
     "data": {
      "text/plain": [
       "array([3, 1])"
      ]
     },
     "execution_count": 52,
     "metadata": {},
     "output_type": "execute_result"
    }
   ],
   "source": [
    "np.roll(junk[::2],1)"
   ]
  },
  {
   "cell_type": "code",
   "execution_count": null,
   "metadata": {},
   "outputs": [],
   "source": []
  }
 ],
 "metadata": {
  "kernelspec": {
   "display_name": "Python 3",
   "language": "python",
   "name": "python3"
  },
  "language_info": {
   "codemirror_mode": {
    "name": "ipython",
    "version": 3
   },
   "file_extension": ".py",
   "mimetype": "text/x-python",
   "name": "python",
   "nbconvert_exporter": "python",
   "pygments_lexer": "ipython3",
   "version": "3.6.6+"
  },
  "latex_envs": {
   "LaTeX_envs_menu_present": true,
   "autoclose": false,
   "autocomplete": true,
   "bibliofile": "biblio.bib",
   "cite_by": "apalike",
   "current_citInitial": 1,
   "eqLabelWithNumbers": true,
   "eqNumInitial": 1,
   "hotkeys": {
    "equation": "Ctrl-E",
    "itemize": "Ctrl-I"
   },
   "labels_anchors": false,
   "latex_user_defs": false,
   "report_style_numbering": false,
   "user_envs_cfg": true
  }
 },
 "nbformat": 4,
 "nbformat_minor": 2
}
