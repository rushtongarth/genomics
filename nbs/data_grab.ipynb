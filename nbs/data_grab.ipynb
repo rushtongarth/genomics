{
 "cells": [
  {
   "cell_type": "code",
   "execution_count": 1,
   "metadata": {},
   "outputs": [],
   "source": [
    "import os,os.path as osp\n",
    "import io,gzip\n",
    "import functools as ft,itertools as it\n",
    "import pycurl\n",
    "import numpy as np,pandas as pd"
   ]
  },
  {
   "cell_type": "code",
   "execution_count": 2,
   "metadata": {},
   "outputs": [
    {
     "data": {
      "text/plain": [
       "True"
      ]
     },
     "execution_count": 2,
     "metadata": {},
     "output_type": "execute_result"
    }
   ],
   "source": [
    "parent_dir = osp.abspath(osp.join(os.getcwd(),os.pardir))\n",
    "cfg = osp.join(parent_dir,'genelinks.cfg')\n",
    "osp.exists(cfg)"
   ]
  },
  {
   "cell_type": "code",
   "execution_count": 3,
   "metadata": {},
   "outputs": [
    {
     "name": "stdout",
     "output_type": "stream",
     "text": [
      "found dir for 1\n",
      "found dir for 2\n",
      "found dir for 3\n",
      "found dir for 4\n",
      "found dir for 5\n",
      "found dir for 6\n",
      "found dir for 7\n",
      "found dir for 8\n",
      "found dir for 9\n",
      "found dir for 10\n",
      "found dir for 11\n",
      "found dir for 12\n",
      "found dir for 13\n",
      "found dir for 14\n",
      "found dir for 15\n",
      "found dir for 16\n",
      "found dir for 17\n",
      "found dir for 18\n",
      "found dir for 19\n",
      "found dir for 20\n",
      "found dir for 21\n",
      "found dir for 22\n",
      "found dir for X\n",
      "found dir for Y\n",
      "found dir for MT\n"
     ]
    }
   ],
   "source": [
    "chrmsm = ['1','2','3','4','5','6','7','8','9','10','11','12','13',\n",
    "          '14','15','16','17','18','19','20','21','22','X','Y','MT']\n",
    "dir_p1 = 'chrom-{:02d}'\n",
    "dir_p2 = 'chrom-{:s}'\n",
    "for x in chrmsm:\n",
    "    if x.isdecimal():\n",
    "        dstr = dir_p1.format(int(x))\n",
    "    else:\n",
    "        dstr = dir_p2.format(x)\n",
    "    dirs = osp.join(parent_dir,'data',dstr)\n",
    "    if not osp.exists(dirs):\n",
    "        os.makedirs(dirs)\n",
    "        print(\"created dir for %s\"%x)\n",
    "    else:\n",
    "        print(\"found dir for %s\"%x)"
   ]
  },
  {
   "cell_type": "code",
   "execution_count": 4,
   "metadata": {},
   "outputs": [
    {
     "data": {
      "text/plain": [
       "dict_keys(['23andme', '23andme-exome-vcf', 'IYG', 'ancestry', 'decodeme', 'ftdna-illumina', 'genes-for-good'])"
      ]
     },
     "execution_count": 4,
     "metadata": {},
     "output_type": "execute_result"
    }
   ],
   "source": [
    "D = {}\n",
    "with open(cfg,'r') as f:\n",
    "    lines = [l.strip() for l in f.readlines() if l]\n",
    "fn = lambda X: X.split('.')[-2]\n",
    "for k,g in it.groupby(sorted(lines,key=fn),key=fn):\n",
    "    D[k] = list(g)\n",
    "D.keys()"
   ]
  },
  {
   "cell_type": "code",
   "execution_count": 5,
   "metadata": {},
   "outputs": [],
   "source": [
    "txt = ['23andme','23andme-exome-vcf','ancestry','genes-for-good']\n",
    "gzd = ['IYG','decodeme','ftdna-illumina']"
   ]
  },
  {
   "cell_type": "code",
   "execution_count": 6,
   "metadata": {},
   "outputs": [],
   "source": [
    "def read_23andme(pagebytes):\n",
    "    cols = ['rsid','chrom','pos','alleles']\n",
    "    sep = '\\t'\n",
    "    pg = io.StringIO(pagebytes)\n",
    "    args = {\n",
    "        'comment':'#','sep':sep,'dtype':object,'names':cols\n",
    "    }\n",
    "    return pd.read_csv(pg,**args)\n",
    "def read_ancestry(pagebytes):\n",
    "    cols = ['rsid','chrom','pos','alleles']\n",
    "    sep = ','\n",
    "    args = {\n",
    "        'skiprows':1,'sep':sep,'dtype':object,'names':cols\n",
    "    }\n",
    "    filt = lambda Y: not Y.startswith('#')\n",
    "    decd = lambda X: X.replace('\\t',',',3).replace('\\t','')\n",
    "    junk = pagebytes\n",
    "    fpg = filter(filt,junk.splitlines())\n",
    "    junk = [decd(x) for x in fpg]\n",
    "    junk = io.StringIO('\\n'.join(junk))\n",
    "    return pd.read_csv(junk,**args)"
   ]
  },
  {
   "cell_type": "code",
   "execution_count": 7,
   "metadata": {},
   "outputs": [],
   "source": [
    "def link_grab(Links):\n",
    "\n",
    "    reqs = []\n",
    "    m = pycurl.CurlMulti()\n",
    "    for url in Links:\n",
    "        buff = io.BytesIO()\n",
    "        handle = pycurl.Curl()\n",
    "        handle.setopt(pycurl.URL, url)\n",
    "        handle.setopt(pycurl.WRITEDATA, buff)\n",
    "        req = (url, buff, handle)\n",
    "        m.add_handle(req[2])\n",
    "        reqs.append(req)\n",
    "    # Perform multi-request, modified from:\n",
    "    # https://github.com/rushtongarth/XnaPyCurl/blob/master/src/getters/multi.py\n",
    "    num_processed=0\n",
    "    num_urls = len(Links)\n",
    "    while num_processed < num_urls:\n",
    "        while 1:\n",
    "            ret, num_handles = m.perform()\n",
    "            if ret != pycurl.E_CALL_MULTI_PERFORM: break\n",
    "            else: print(num_handles)\n",
    "        while 1:\n",
    "            num_q, ok_list, err_list = m.info_read()\n",
    "            for c in ok_list:\n",
    "                m.remove_handle(c)\n",
    "                print(\"Success:\",c.getinfo(pycurl.EFFECTIVE_URL))\n",
    "            for c, errno, errmsg in err_list:\n",
    "                m.remove_handle(c)\n",
    "                print(\"Failed: \", c, errno, errmsg)\n",
    "            num_processed = num_processed + len(ok_list) + len(err_list)\n",
    "            if num_q == 0:  break\n",
    "        m.select(1.0)\n",
    "    return reqs\n"
   ]
  },
  {
   "cell_type": "code",
   "execution_count": 8,
   "metadata": {},
   "outputs": [],
   "source": [
    "def file_proc(to_proc,mode='23andme',verbose=False):\n",
    "    f1 = lambda Y: Y and not Y.startswith('#')\n",
    "    f2 = lambda X: '-'.join(X.split('/')[-1].split('.')[::2])\n",
    "    rows = {}\n",
    "    if mode=='23andme':\n",
    "        to_df = read_23andme\n",
    "    elif mode=='ancestry':\n",
    "        to_df = read_ancestry\n",
    "\n",
    "    for u,req,h in to_proc:\n",
    "        try:\n",
    "            to_dec = req.getvalue().decode('ascii')\n",
    "            genes = to_df(to_dec)\n",
    "            rows[f2(u)] = genes\n",
    "        except UnicodeDecodeError as e:\n",
    "            print('Skipping %s'%u)\n",
    "    return rows"
   ]
  },
  {
   "cell_type": "code",
   "execution_count": 9,
   "metadata": {},
   "outputs": [
    {
     "name": "stdout",
     "output_type": "stream",
     "text": [
      "69\n",
      "Success: https://www.opensnp.org/data/519.23andme.236\n",
      "Success: https://www.opensnp.org/data/607.23andme.2873\n",
      "Success: https://www.opensnp.org/data/2848.23andme.1807\n",
      "Success: https://www.opensnp.org/data/3313.23andme.2153\n",
      "Success: https://www.opensnp.org/data/3121.23andme.2014\n",
      "Success: https://www.opensnp.org/data/4038.23andme.2727\n",
      "Success: https://www.opensnp.org/data/4787.23andme.3372\n",
      "Success: https://www.opensnp.org/data/4509.23andme.3106\n",
      "Success: https://www.opensnp.org/data/5185.23andme.3866\n",
      "Success: https://www.opensnp.org/data/2578.23andme.1597\n",
      "Success: https://www.opensnp.org/data/2157.23andme.1309\n",
      "Success: https://www.opensnp.org/data/4402.23andme.3002\n",
      "Success: https://www.opensnp.org/data/7726.23andme.6073\n",
      "Success: https://www.opensnp.org/data/3563.23andme.2747\n",
      "Success: https://www.opensnp.org/data/3388.23andme.2203\n",
      "Success: https://www.opensnp.org/data/107.23andme.51\n",
      "Success: https://www.opensnp.org/data/5936.23andme.4400\n",
      "Success: https://www.opensnp.org/data/4493.23andme.3089\n",
      "Success: https://www.opensnp.org/data/7251.23andme.5630\n",
      "Success: https://www.opensnp.org/data/5861.23andme.4337\n",
      "Success: https://www.opensnp.org/data/3172.23andme.2057\n",
      "Success: https://www.opensnp.org/data/1980.23andme.1166\n",
      "Success: https://www.opensnp.org/data/2745.23andme.1749\n",
      "Success: https://www.opensnp.org/data/3255.23andme.2118\n",
      "Success: https://www.opensnp.org/data/325.23andme.149\n",
      "Success: https://www.opensnp.org/data/4001.23andme.2695\n",
      "Success: https://www.opensnp.org/data/6124.23andme.4643\n",
      "Success: https://www.opensnp.org/data/6832.23andme.5214\n",
      "Failed:  <pycurl.Curl object at 0x556b68310888> 52 Empty reply from server\n",
      "Failed:  <pycurl.Curl object at 0x556b682d59f8> 52 Empty reply from server\n",
      "Failed:  <pycurl.Curl object at 0x556b682bad88> 18 transfer closed with 14809376 bytes remaining to read\n",
      "Success: https://www.opensnp.org/data/2222.23andme.1369\n",
      "Success: https://www.opensnp.org/data/584.23andme.269\n",
      "Success: https://www.opensnp.org/data/3037.23andme.3696\n",
      "Success: https://www.opensnp.org/data/2038.23andme.1219\n",
      "Success: https://www.opensnp.org/data/437.23andme.190\n",
      "Success: https://www.opensnp.org/data/2984.23andme.1910\n",
      "Success: https://www.opensnp.org/data/2397.23andme.1489\n",
      "Success: https://www.opensnp.org/data/4619.23andme.3220\n",
      "Success: https://www.opensnp.org/data/980.23andme.486\n",
      "Success: https://www.opensnp.org/data/7381.23andme.5733\n",
      "Success: https://www.opensnp.org/data/2825.23andme.1786\n",
      "Success: https://www.opensnp.org/data/3444.23andme.2246\n",
      "Success: https://www.opensnp.org/data/1429.23andme.771\n",
      "Success: https://www.opensnp.org/data/4907.23andme.3461\n",
      "Success: https://www.opensnp.org/data/2135.23andme.1301\n",
      "Success: https://www.opensnp.org/data/1515.23andme.833\n",
      "Success: https://www.opensnp.org/data/141.23andme.60\n",
      "Success: https://www.opensnp.org/data/6723.23andme.5115\n",
      "Success: https://www.opensnp.org/data/4056.23andme.2741\n",
      "Success: https://www.opensnp.org/data/4195.23andme.2848\n",
      "Success: https://www.opensnp.org/data/3455.23andme.2251\n",
      "Success: https://www.opensnp.org/data/2507.23andme.1537\n",
      "Success: https://www.opensnp.org/data/6561.23andme.4958\n",
      "Success: https://www.opensnp.org/data/3787.23andme.5497\n",
      "Success: https://www.opensnp.org/data/7089.23andme.5488\n",
      "Success: https://www.opensnp.org/data/4482.23andme.3079\n",
      "Success: https://www.opensnp.org/data/5945.23andme.4438\n",
      "Failed:  <pycurl.Curl object at 0x556b6829ff08> 18 transfer closed with 24225055 bytes remaining to read\n",
      "Success: https://www.opensnp.org/data/4030.23andme.5110\n",
      "Success: https://www.opensnp.org/data/1172.23andme.608\n",
      "Success: https://www.opensnp.org/data/3009.23andme.1929\n",
      "Success: https://www.opensnp.org/data/5292.23andme.3797\n",
      "Success: https://www.opensnp.org/data/667.23andme.308\n",
      "Success: https://www.opensnp.org/data/7715.23andme.6058\n",
      "Success: https://www.opensnp.org/data/7255.23andme.5633\n",
      "Success: https://www.opensnp.org/data/6827.23andme.5210\n",
      "Success: https://www.opensnp.org/data/2189.23andme.1337\n",
      "Success: https://www.opensnp.org/data/519.23andme.236\n"
     ]
    }
   ],
   "source": [
    "subset = len(D['23andme'])//50\n",
    "print(subset)\n",
    "\n",
    "tograb = np.random.choice(D['23andme'],subset)\n",
    "genes = link_grab(tograb)"
   ]
  },
  {
   "cell_type": "code",
   "execution_count": 10,
   "metadata": {},
   "outputs": [
    {
     "name": "stdout",
     "output_type": "stream",
     "text": [
      "Skipping https://www.opensnp.org/data/4195.23andme.2848\n",
      "Skipping https://www.opensnp.org/data/607.23andme.2873\n",
      "Skipping https://www.opensnp.org/data/6832.23andme.5214\n"
     ]
    }
   ],
   "source": [
    "L = file_proc(genes)"
   ]
  },
  {
   "cell_type": "code",
   "execution_count": 23,
   "metadata": {},
   "outputs": [
    {
     "name": "stdout",
     "output_type": "stream",
     "text": [
      "compressed: 584-269\n",
      "compressed: 4056-2741\n",
      "compressed: 980-486\n",
      "compressed: 2397-1489\n",
      "compressed: 2135-1301\n",
      "compressed: 4907-3461\n",
      "compressed: 1515-833\n",
      "compressed: 2825-1786\n",
      "compressed: 4038-2727\n",
      "compressed: 7381-5733\n",
      "compressed: 3455-2251\n",
      "compressed: 7715-6058\n",
      "compressed: 2507-1537\n",
      "compressed: 6561-4958\n",
      "compressed: 3787-5497\n",
      "compressed: 7089-5488\n",
      "compressed: 2189-1337\n",
      "compressed: 4482-3079\n",
      "compressed: 5945-4438\n",
      "compressed: 1325-706\n",
      "compressed: 7255-5633\n",
      "compressed: 4030-5110\n",
      "compressed: 519-236\n",
      "compressed: 4014-2705\n",
      "compressed: 3037-3696\n",
      "compressed: 2038-1219\n",
      "compressed: 4787-3372\n",
      "compressed: 4509-3106\n",
      "compressed: 5225-3738\n",
      "compressed: 2157-1309\n",
      "compressed: 2222-1369\n",
      "compressed: 2578-1597\n",
      "compressed: 5185-3866\n",
      "compressed: 1980-1166\n",
      "compressed: 3172-2057\n",
      "compressed: 7251-5630\n",
      "compressed: 3388-2203\n",
      "compressed: 7726-6073\n",
      "compressed: 4402-3002\n",
      "compressed: 1500-819\n",
      "compressed: 437-190\n",
      "compressed: 6827-5210\n",
      "compressed: 3313-2153\n",
      "compressed: 3121-2014\n",
      "compressed: 2848-1807\n",
      "compressed: 3563-2747\n",
      "compressed: 5861-4337\n",
      "compressed: 325-149\n",
      "compressed: 5936-4400\n",
      "compressed: 107-51\n",
      "compressed: 4493-3089\n",
      "compressed: 4001-2695\n",
      "compressed: 4619-3220\n",
      "compressed: 2745-1749\n",
      "compressed: 6124-4643\n",
      "compressed: 3444-2246\n",
      "compressed: 1172-608\n",
      "compressed: 5292-3797\n",
      "compressed: 1429-771\n",
      "compressed: 2984-1910\n",
      "compressed: 3255-2118\n",
      "compressed: 141-60\n",
      "compressed: 3009-1929\n",
      "compressed: 667-308\n",
      "compressed: 6723-5115\n"
     ]
    }
   ],
   "source": [
    "dir_p1 = 'chrom-{:02d}'\n",
    "dir_p2 = 'chrom-{:s}'\n",
    "fnamed = '{:s}.frame.gz'\n",
    "for k,v in L.items():\n",
    "  for g,rws in v.groupby('chrom'):\n",
    "    if g.isdecimal():\n",
    "      f = osp.join(parent_dir,'data',dir_p1,fnamed).format(int(g),k)\n",
    "    else:\n",
    "      f = osp.join(parent_dir,'data',dir_p2,fnamed).format(g,k)\n",
    "    rws.to_pickle(f,compression='gzip')\n",
    "  print(\"compressed: %s\"%k)"
   ]
  },
  {
   "cell_type": "code",
   "execution_count": 24,
   "metadata": {},
   "outputs": [],
   "source": [
    "del genes\n",
    "del L"
   ]
  },
  {
   "cell_type": "code",
   "execution_count": null,
   "metadata": {},
   "outputs": [],
   "source": []
  },
  {
   "cell_type": "code",
   "execution_count": 26,
   "metadata": {},
   "outputs": [],
   "source": [
    "u = set()\n",
    "for k,v in L.items():\n",
    "    rows = set(v.rsid.unique())\n",
    "    diff = rows - u\n",
    "    if len(diff)>0:\n",
    "        u |= rows"
   ]
  },
  {
   "cell_type": "code",
   "execution_count": 27,
   "metadata": {},
   "outputs": [
    {
     "data": {
      "text/plain": [
       "1552626"
      ]
     },
     "execution_count": 27,
     "metadata": {},
     "output_type": "execute_result"
    }
   ],
   "source": [
    "len(u)"
   ]
  },
  {
   "cell_type": "code",
   "execution_count": 30,
   "metadata": {},
   "outputs": [],
   "source": [
    "del L"
   ]
  },
  {
   "cell_type": "code",
   "execution_count": 28,
   "metadata": {},
   "outputs": [],
   "source": [
    "import pickle"
   ]
  },
  {
   "cell_type": "code",
   "execution_count": 29,
   "metadata": {},
   "outputs": [
    {
     "ename": "MemoryError",
     "evalue": "",
     "output_type": "error",
     "traceback": [
      "\u001b[0;31m---------------------------------------------------------------------------\u001b[0m",
      "\u001b[0;31mMemoryError\u001b[0m                               Traceback (most recent call last)",
      "\u001b[0;32m<ipython-input-29-93860d596548>\u001b[0m in \u001b[0;36m<module>\u001b[0;34m()\u001b[0m\n\u001b[1;32m      1\u001b[0m \u001b[0;32mwith\u001b[0m \u001b[0mopen\u001b[0m\u001b[0;34m(\u001b[0m\u001b[0;34m'../data/sliced.pkl'\u001b[0m\u001b[0;34m,\u001b[0m\u001b[0;34m'wb'\u001b[0m\u001b[0;34m)\u001b[0m \u001b[0;32mas\u001b[0m \u001b[0mf\u001b[0m\u001b[0;34m:\u001b[0m\u001b[0;34m\u001b[0m\u001b[0;34m\u001b[0m\u001b[0m\n\u001b[0;32m----> 2\u001b[0;31m     \u001b[0mpickle\u001b[0m\u001b[0;34m.\u001b[0m\u001b[0mdump\u001b[0m\u001b[0;34m(\u001b[0m\u001b[0mL\u001b[0m\u001b[0;34m,\u001b[0m\u001b[0mf\u001b[0m\u001b[0;34m)\u001b[0m\u001b[0;34m\u001b[0m\u001b[0;34m\u001b[0m\u001b[0m\n\u001b[0m",
      "\u001b[0;31mMemoryError\u001b[0m: "
     ]
    }
   ],
   "source": [
    "with open('../data/sliced.pkl','wb') as f:\n",
    "    pickle.dump(L,f)"
   ]
  },
  {
   "cell_type": "code",
   "execution_count": 44,
   "metadata": {},
   "outputs": [
    {
     "data": {
      "text/plain": [
       "array(['1', '2', '3', '4', '5', '6', '7', '8', '9', '10', '11', '12',\n",
       "       '13', '14', '15', '16', '17', '18', '19', '20', '21', '22', 'X',\n",
       "       'Y', 'MT'], dtype=object)"
      ]
     },
     "execution_count": 44,
     "metadata": {},
     "output_type": "execute_result"
    }
   ],
   "source": [
    "k1,k2 = list(L.keys())[:2]\n",
    "f1,f2 = L[k1],L[k2]\n",
    "f1.chrom.unique()"
   ]
  },
  {
   "cell_type": "code",
   "execution_count": null,
   "metadata": {},
   "outputs": [],
   "source": []
  }
 ],
 "metadata": {
  "kernelspec": {
   "display_name": "Python 3",
   "language": "python",
   "name": "python3"
  },
  "language_info": {
   "codemirror_mode": {
    "name": "ipython",
    "version": 3
   },
   "file_extension": ".py",
   "mimetype": "text/x-python",
   "name": "python",
   "nbconvert_exporter": "python",
   "pygments_lexer": "ipython3",
   "version": "3.6.6+"
  },
  "latex_envs": {
   "LaTeX_envs_menu_present": true,
   "autoclose": false,
   "autocomplete": true,
   "bibliofile": "biblio.bib",
   "cite_by": "apalike",
   "current_citInitial": 1,
   "eqLabelWithNumbers": true,
   "eqNumInitial": 1,
   "hotkeys": {
    "equation": "Ctrl-E",
    "itemize": "Ctrl-I"
   },
   "labels_anchors": false,
   "latex_user_defs": false,
   "report_style_numbering": false,
   "user_envs_cfg": true
  }
 },
 "nbformat": 4,
 "nbformat_minor": 2
}
