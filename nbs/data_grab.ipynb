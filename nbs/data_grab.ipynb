{
 "cells": [
  {
   "cell_type": "code",
   "execution_count": 24,
   "metadata": {},
   "outputs": [],
   "source": [
    "import os,os.path as osp\n",
    "import io,gzip\n",
    "import functools as ft,itertools as it\n",
    "import pycurl\n",
    "import numpy as np,pandas as pd"
   ]
  },
  {
   "cell_type": "code",
   "execution_count": 3,
   "metadata": {},
   "outputs": [
    {
     "data": {
      "text/plain": [
       "True"
      ]
     },
     "execution_count": 3,
     "metadata": {},
     "output_type": "execute_result"
    }
   ],
   "source": [
    "parent_dir = osp.abspath(osp.join(os.getcwd(),os.pardir))\n",
    "cfg = osp.join(parent_dir,'genelinks.cfg')\n",
    "osp.exists(cfg)"
   ]
  },
  {
   "cell_type": "code",
   "execution_count": 33,
   "metadata": {},
   "outputs": [
    {
     "data": {
      "text/plain": [
       "dict_keys(['23andme', '23andme-exome-vcf', 'IYG', 'ancestry', 'decodeme', 'ftdna-illumina', 'genes-for-good'])"
      ]
     },
     "execution_count": 33,
     "metadata": {},
     "output_type": "execute_result"
    }
   ],
   "source": [
    "D = {}\n",
    "with open(cfg,'r') as f:\n",
    "    lines = [l.strip() for l in f.readlines() if l]\n",
    "fn = lambda X: X.split('.')[-2]\n",
    "for k,g in it.groupby(sorted(lines,key=fn),key=fn):\n",
    "    D[k] = list(g)\n",
    "D.keys()"
   ]
  },
  {
   "cell_type": "code",
   "execution_count": 39,
   "metadata": {},
   "outputs": [],
   "source": [
    "txt = ['23andme','23andme-exome-vcf','ancestry','genes-for-good']\n",
    "gzd = ['IYG','decodeme','ftdna-illumina']"
   ]
  },
  {
   "cell_type": "code",
   "execution_count": 183,
   "metadata": {},
   "outputs": [],
   "source": [
    "def read_23andme(pagebytes):\n",
    "    cols = ['rsid','chrom','pos','alleles']\n",
    "    sep = '\\t'\n",
    "    pg = io.StringIO(pagebytes.decode('ascii'))\n",
    "    args = {\n",
    "        'comment':'#','sep':sep,'dtype':object,'names':cols\n",
    "    }\n",
    "    return pd.read_csv(pg,**args)\n",
    "def read_ancestry(pagebytes):\n",
    "    cols = ['rsid','chrom','pos','alleles']\n",
    "    sep = ','\n",
    "    args = {\n",
    "        'skiprows':1,'sep':sep,'dtype':object,'names':cols\n",
    "    }\n",
    "    filt = lambda Y: not Y.startswith('#')\n",
    "    decd = lambda X: X.replace('\\t',',',3).replace('\\t','')\n",
    "    junk = pagebytes.decode('ascii')\n",
    "    fpg = filter(filt,junk.splitlines())\n",
    "    junk = [decd(x) for x in fpg]\n",
    "    junk = io.StringIO('\\n'.join(junk))\n",
    "    return pd.read_csv(junk,**args)"
   ]
  },
  {
   "cell_type": "code",
   "execution_count": 184,
   "metadata": {},
   "outputs": [],
   "source": [
    "def grab_link(L,mode='23andme'):\n",
    "    C = pycurl.Curl()\n",
    "    C.setopt(pycurl.MAXREDIRS,50)\n",
    "    buff = io.BytesIO()\n",
    "    f1 = lambda Y: Y and not Y.startswith('#')\n",
    "    f2 = lambda X: '-'.join(X.split('/')[-1].split('.')[::2])\n",
    "    rows = {}\n",
    "    if mode=='23andme':\n",
    "        to_df = read_23andme\n",
    "    elif mode=='ancestry':\n",
    "        to_df = read_ancestry\n",
    "    for l in L:\n",
    "        C.setopt(pycurl.URL,l)\n",
    "        C.setopt(pycurl.WRITEDATA, buff)\n",
    "        #C.setopt(pycurl.WRITEFUNCTION, buff.write)\n",
    "        C.perform()\n",
    "        genes = to_df(buff.getvalue())\n",
    "        #_genes = io.StringIO(buff.getvalue().decode('ascii'))\n",
    "        #genes = filter(f1,_genes.splitlines())\n",
    "        #genes = pd.read_csv(_genes,**args)\n",
    "        rows[f2(l)] = genes #[x.strip() for x in genes]\n",
    "        buff.truncate(0)\n",
    "    C.close()\n",
    "    return rows\n",
    "#f5 = lambda X: X.decode('ascii').replace('\\t',',',3).replace('\\t','')\n",
    "#with open('496.data','rb') as f:\n"
   ]
  },
  {
   "cell_type": "code",
   "execution_count": 175,
   "metadata": {},
   "outputs": [],
   "source": [
    "genes = grab_link(D['23andme'][:2])"
   ]
  },
  {
   "cell_type": "code",
   "execution_count": 164,
   "metadata": {},
   "outputs": [
    {
     "data": {
      "text/html": [
       "<div>\n",
       "<style scoped>\n",
       "    .dataframe tbody tr th:only-of-type {\n",
       "        vertical-align: middle;\n",
       "    }\n",
       "\n",
       "    .dataframe tbody tr th {\n",
       "        vertical-align: top;\n",
       "    }\n",
       "\n",
       "    .dataframe thead th {\n",
       "        text-align: right;\n",
       "    }\n",
       "</style>\n",
       "<table border=\"1\" class=\"dataframe\">\n",
       "  <thead>\n",
       "    <tr style=\"text-align: right;\">\n",
       "      <th></th>\n",
       "      <th>rsid</th>\n",
       "      <th>chrom</th>\n",
       "      <th>pos</th>\n",
       "      <th>alleles</th>\n",
       "    </tr>\n",
       "  </thead>\n",
       "  <tbody>\n",
       "    <tr>\n",
       "      <th>0</th>\n",
       "      <td>rs4477212</td>\n",
       "      <td>1</td>\n",
       "      <td>82154</td>\n",
       "      <td>AA</td>\n",
       "    </tr>\n",
       "    <tr>\n",
       "      <th>1</th>\n",
       "      <td>rs3094315</td>\n",
       "      <td>1</td>\n",
       "      <td>752566</td>\n",
       "      <td>AG</td>\n",
       "    </tr>\n",
       "  </tbody>\n",
       "</table>\n",
       "</div>"
      ],
      "text/plain": [
       "        rsid chrom     pos alleles\n",
       "0  rs4477212     1   82154      AA\n",
       "1  rs3094315     1  752566      AG"
      ]
     },
     "execution_count": 164,
     "metadata": {},
     "output_type": "execute_result"
    }
   ],
   "source": [
    "genes['1002-497'].head(2)"
   ]
  },
  {
   "cell_type": "code",
   "execution_count": 185,
   "metadata": {},
   "outputs": [],
   "source": [
    "tmp = grab_link(D['ancestry'][:1],'ancestry')['1001-496']"
   ]
  },
  {
   "cell_type": "code",
   "execution_count": 189,
   "metadata": {},
   "outputs": [
    {
     "data": {
      "text/plain": [
       "(701478, 4)"
      ]
     },
     "execution_count": 189,
     "metadata": {},
     "output_type": "execute_result"
    }
   ],
   "source": [
    "tmp.shape"
   ]
  },
  {
   "cell_type": "code",
   "execution_count": 188,
   "metadata": {},
   "outputs": [
    {
     "data": {
      "text/plain": [
       "4036"
      ]
     },
     "execution_count": 188,
     "metadata": {},
     "output_type": "execute_result"
    }
   ],
   "source": [
    "len(D['ancestry'])+len(D['23andme'])"
   ]
  },
  {
   "cell_type": "code",
   "execution_count": 194,
   "metadata": {},
   "outputs": [
    {
     "name": "stdout",
     "output_type": "stream",
     "text": [
      "2,831,165,208\n",
      "353,895,651\n"
     ]
    }
   ],
   "source": [
    "print('{:,}'.format(4036*701478))\n",
    "print('{:,}'.format(4036*701478//8))"
   ]
  },
  {
   "cell_type": "code",
   "execution_count": null,
   "metadata": {},
   "outputs": [],
   "source": []
  }
 ],
 "metadata": {
  "kernelspec": {
   "display_name": "Python 3",
   "language": "python",
   "name": "python3"
  },
  "language_info": {
   "codemirror_mode": {
    "name": "ipython",
    "version": 3
   },
   "file_extension": ".py",
   "mimetype": "text/x-python",
   "name": "python",
   "nbconvert_exporter": "python",
   "pygments_lexer": "ipython3",
   "version": "3.6.6+"
  },
  "latex_envs": {
   "LaTeX_envs_menu_present": true,
   "autoclose": false,
   "autocomplete": true,
   "bibliofile": "biblio.bib",
   "cite_by": "apalike",
   "current_citInitial": 1,
   "eqLabelWithNumbers": true,
   "eqNumInitial": 1,
   "hotkeys": {
    "equation": "Ctrl-E",
    "itemize": "Ctrl-I"
   },
   "labels_anchors": false,
   "latex_user_defs": false,
   "report_style_numbering": false,
   "user_envs_cfg": true
  }
 },
 "nbformat": 4,
 "nbformat_minor": 2
}
