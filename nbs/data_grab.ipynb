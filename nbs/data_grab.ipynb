{
 "cells": [
  {
   "cell_type": "code",
   "execution_count": null,
   "metadata": {},
   "outputs": [],
   "source": [
    "import os,os.path as osp\n",
    "import io,gzip\n",
    "import functools as ft,itertools as it\n",
    "import pycurl\n",
    "import numpy as np,pandas as pd"
   ]
  },
  {
   "cell_type": "code",
   "execution_count": null,
   "metadata": {},
   "outputs": [],
   "source": [
    "parent_dir = osp.abspath(osp.join(os.getcwd(),os.pardir))\n",
    "cfg = osp.join(parent_dir,'genelinks.cfg')\n",
    "osp.exists(cfg)"
   ]
  },
  {
   "cell_type": "code",
   "execution_count": null,
   "metadata": {},
   "outputs": [],
   "source": [
    "D = {}\n",
    "with open(cfg,'r') as f:\n",
    "    lines = [l.strip() for l in f.readlines() if l]\n",
    "fn = lambda X: X.split('.')[-2]\n",
    "for k,g in it.groupby(sorted(lines,key=fn),key=fn):\n",
    "    D[k] = list(g)\n",
    "D.keys()"
   ]
  },
  {
   "cell_type": "code",
   "execution_count": null,
   "metadata": {},
   "outputs": [],
   "source": [
    "txt = ['23andme','23andme-exome-vcf','ancestry','genes-for-good']\n",
    "gzd = ['IYG','decodeme','ftdna-illumina']"
   ]
  },
  {
   "cell_type": "code",
   "execution_count": null,
   "metadata": {},
   "outputs": [],
   "source": [
    "def read_23andme(pagebytes):\n",
    "    cols = ['rsid','chrom','pos','alleles']\n",
    "    sep = '\\t'\n",
    "    pg = io.StringIO(pagebytes.decode('ascii'))\n",
    "    args = {\n",
    "        'comment':'#','sep':sep,'dtype':object,'names':cols\n",
    "    }\n",
    "    return pd.read_csv(pg,**args)\n",
    "def read_ancestry(pagebytes):\n",
    "    cols = ['rsid','chrom','pos','alleles']\n",
    "    sep = ','\n",
    "    args = {\n",
    "        'skiprows':1,'sep':sep,'dtype':object,'names':cols\n",
    "    }\n",
    "    filt = lambda Y: not Y.startswith('#')\n",
    "    decd = lambda X: X.replace('\\t',',',3).replace('\\t','')\n",
    "    junk = pagebytes.decode('ascii')\n",
    "    fpg = filter(filt,junk.splitlines())\n",
    "    junk = [decd(x) for x in fpg]\n",
    "    junk = io.StringIO('\\n'.join(junk))\n",
    "    return pd.read_csv(junk,**args)"
   ]
  },
  {
   "cell_type": "code",
   "execution_count": null,
   "metadata": {},
   "outputs": [],
   "source": [
    "def grab_link(Links,mode='23andme',verbose=False):\n",
    "    C = pycurl.Curl()\n",
    "    C.setopt(pycurl.MAXREDIRS,50)\n",
    "    #buff = io.BytesIO()\n",
    "    f1 = lambda Y: Y and not Y.startswith('#')\n",
    "    f2 = lambda X: '-'.join(X.split('/')[-1].split('.')[::2])\n",
    "    rows = {}\n",
    "    if verbose:\n",
    "        print(\"using mode: {:}\".format(mode))\n",
    "    if mode=='23andme':\n",
    "        to_df = read_23andme\n",
    "    elif mode=='ancestry':\n",
    "        to_df = read_ancestry\n",
    "\n",
    "    # Who has time for serial anyway?\n",
    "    if verbose: print(\"Building multi-object\")\n",
    "    reqs = []\n",
    "    m = pycurl.CurlMulti()\n",
    "    for url in Links: \n",
    "        buff = io.BytesIO()\n",
    "        handle = pycurl.Curl()\n",
    "        handle.setopt(pycurl.URL, url)\n",
    "        handle.setopt(pycurl.WRITEDATA, buff)\n",
    "        req = (url, buff, handle)\n",
    "        m.add_handle(req[2])\n",
    "        reqs.append(req)\n",
    "    # Perform multi-request, modified from:\n",
    "    # https://github.com/rushtongarth/XnaPyCurl/blob/master/src/getters/multi.py\n",
    "    SELECT_TIMEOUT = 1.0\n",
    "    num_handles = len(reqs)\n",
    "    if verbose: print(\"requesting...\")\n",
    "    while num_handles:\n",
    "        ret = m.select(SELECT_TIMEOUT)\n",
    "        if ret == -1:\n",
    "            continue\n",
    "        while 1:\n",
    "            ret, num_handles = m.perform()\n",
    "            if ret != pycurl.E_CALL_MULTI_PERFORM: \n",
    "                break\n",
    "    if verbose: print(\"formatting...\")\n",
    "    for u,req,h in reqs:\n",
    "        if verbose: print(u)\n",
    "        genes = to_df(req.getvalue())\n",
    "        rows[f2(u)] = genes\n",
    "    return rows\n"
   ]
  },
  {
   "cell_type": "code",
   "execution_count": null,
   "metadata": {},
   "outputs": [],
   "source": [
    "subset = len(D['23andme'])//20\n",
    "print(subset)\n",
    "\n",
    "tograb = np.random.choice(D['23andme'],subset)\n",
    "genes = grab_link(tograb,verbose=True)"
   ]
  },
  {
   "cell_type": "code",
   "execution_count": null,
   "metadata": {},
   "outputs": [],
   "source": [
    "tmp = grab_link(D['ancestry'][:1],'ancestry')['1001-496']"
   ]
  },
  {
   "cell_type": "code",
   "execution_count": null,
   "metadata": {},
   "outputs": [],
   "source": []
  }
 ],
 "metadata": {
  "kernelspec": {
   "display_name": "Python 3",
   "language": "python",
   "name": "python3"
  },
  "language_info": {
   "codemirror_mode": {
    "name": "ipython",
    "version": 3
   },
   "file_extension": ".py",
   "mimetype": "text/x-python",
   "name": "python",
   "nbconvert_exporter": "python",
   "pygments_lexer": "ipython3",
   "version": "3.6.6+"
  },
  "latex_envs": {
   "LaTeX_envs_menu_present": true,
   "autoclose": false,
   "autocomplete": true,
   "bibliofile": "biblio.bib",
   "cite_by": "apalike",
   "current_citInitial": 1,
   "eqLabelWithNumbers": true,
   "eqNumInitial": 1,
   "hotkeys": {
    "equation": "Ctrl-E",
    "itemize": "Ctrl-I"
   },
   "labels_anchors": false,
   "latex_user_defs": false,
   "report_style_numbering": false,
   "user_envs_cfg": true
  }
 },
 "nbformat": 4,
 "nbformat_minor": 2
}
