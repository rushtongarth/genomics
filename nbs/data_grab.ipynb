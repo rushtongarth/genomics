{
 "cells": [
  {
   "cell_type": "code",
   "execution_count": 10,
   "metadata": {},
   "outputs": [],
   "source": [
    "import pycurl\n",
    "import numpy as np\n",
    "import pandas as pd"
   ]
  },
  {
   "cell_type": "code",
   "execution_count": 5,
   "metadata": {},
   "outputs": [
    {
     "data": {
      "text/plain": [
       "4514"
      ]
     },
     "execution_count": 5,
     "metadata": {},
     "output_type": "execute_result"
    }
   ],
   "source": [
    "fname = 'genelinks.cfg'\n",
    "with open(fname,'r') as f:\n",
    "    lines = [l.strip() for l in f.readlines() if l]\n",
    "len(lines)"
   ]
  },
  {
   "cell_type": "code",
   "execution_count": 13,
   "metadata": {},
   "outputs": [
    {
     "name": "stdout",
     "output_type": "stream",
     "text": [
      "https://www.opensnp.org/data/1001.ancestry.496\n"
     ]
    }
   ],
   "source": [
    "#C = pycurl.Curl()\n",
    "#C.setopt\n",
    "# curl_easy_setopt(hnd, CURLOPT_URL, \"https://www.opensnp.org/data/1001.ancestry.496\");\n",
    "# curl_easy_setopt(hnd, CURLOPT_NOPROGRESS, 1L);\n",
    "# curl_easy_setopt(hnd, CURLOPT_USERAGENT, \"curl/7.61.1\");\n",
    "# curl_easy_setopt(hnd, CURLOPT_MAXREDIRS, 50L);\n",
    "# curl_easy_setopt(hnd, CURLOPT_HTTP_VERSION, (long)CURL_HTTP_VERSION_2TLS);\n",
    "# curl_easy_setopt(hnd, CURLOPT_TCP_KEEPALIVE, 1L);\n",
    "L = lines[:1]\n",
    "for l in L:\n",
    "    print(l)"
   ]
  },
  {
   "cell_type": "code",
   "execution_count": null,
   "metadata": {},
   "outputs": [],
   "source": []
  }
 ],
 "metadata": {
  "kernelspec": {
   "display_name": "Python 3",
   "language": "python",
   "name": "python3"
  },
  "language_info": {
   "codemirror_mode": {
    "name": "ipython",
    "version": 3
   },
   "file_extension": ".py",
   "mimetype": "text/x-python",
   "name": "python",
   "nbconvert_exporter": "python",
   "pygments_lexer": "ipython3",
   "version": "3.6.6+"
  },
  "latex_envs": {
   "LaTeX_envs_menu_present": true,
   "autoclose": false,
   "autocomplete": true,
   "bibliofile": "biblio.bib",
   "cite_by": "apalike",
   "current_citInitial": 1,
   "eqLabelWithNumbers": true,
   "eqNumInitial": 1,
   "hotkeys": {
    "equation": "Ctrl-E",
    "itemize": "Ctrl-I"
   },
   "labels_anchors": false,
   "latex_user_defs": false,
   "report_style_numbering": false,
   "user_envs_cfg": true
  }
 },
 "nbformat": 4,
 "nbformat_minor": 2
}
